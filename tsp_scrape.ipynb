{
 "cells": [
  {
   "cell_type": "code",
   "execution_count": null,
   "metadata": {},
   "outputs": [],
   "source": [
    "#!/usr/bin/python\n",
    "# script to scrape tsp fund prices from tsp.gov\n",
    "# adapted from Python 2 script created by user Simbills on Bogleheads.org\n",
    "# https://www.bogleheads.org/forum/viewtopic.php?f=1&t=108388\n",
    "\n",
    "import requests\n",
    "import csv\n",
    "from datetime import datetime, timedelta, date\n",
    "import sys"
   ]
  },
  {
   "cell_type": "code",
   "execution_count": null,
   "metadata": {},
   "outputs": [],
   "source": [
    "fundTag = {\n",
    "    'L Income' : 'TSPLINCOME',\n",
    "    'L 2020' : 'TSPL2020',\n",
    "    'L 2030' : 'TSPL2030',\n",
    "    'L 2040' : 'TSPL2040',\n",
    "    'L 2050' : 'TSPL2050',\n",
    "    'G Fund' : 'TSPGFUND',\n",
    "    'F Fund' : 'TSPFFUND',\n",
    "    'C Fund' : 'TSPCFUND',\n",
    "    'S Fund' : 'TSPSFUND',\n",
    "    'I Fund' : 'TSPIFUND'}\n",
    "\n",
    "priceHistoryFile = 'tspQuicken.csv'\n",
    "\n",
    "lastDate = ''\n",
    "try:\n",
    "    quickenReader = csv.reader(open(priceHistoryFile, 'r'))\n",
    "    lastDate = [row for row in quickenReader][-1][2]\n",
    "except:\n",
    "    lastDate = '06/01/2003'\n",
    "startDate = (datetime.strptime(lastDate, '%m/%d/%Y') + timedelta(1)).strftime('%m/%d/%Y')\n",
    "endDate = date.today().strftime('%m/%d/%Y')\n",
    "if lastDate == endDate:\n",
    "    print('already have prices through', endDate)\n",
    "    sys.exit()"
   ]
  },
  {
   "cell_type": "code",
   "execution_count": null,
   "metadata": {},
   "outputs": [],
   "source": [
    "print('checking for new prices starting on', startDate)\n",
    "tspSharePricePageUrl = 'https://www.tsp.gov/InvestmentFunds/FundPerformance/index.html'\n",
    "postData = {'startdate' : startDate, 'enddate' : endDate, 'whichButton' : 'CSV'}"
   ]
  },
  {
   "cell_type": "code",
   "execution_count": null,
   "metadata": {},
   "outputs": [],
   "source": [
    "page = requests.post(tspSharePricePageUrl, data = postData)"
   ]
  },
  {
   "cell_type": "code",
   "execution_count": null,
   "metadata": {},
   "outputs": [],
   "source": [
    "reader = csv.reader(page.text.splitlines(), delimiter=',')\n",
    "rows = [row for row in reader if len(row) > 0]\n",
    "tagRow = rows[0]\n",
    "foundNew = False"
   ]
  },
  {
   "cell_type": "code",
   "execution_count": null,
   "metadata": {},
   "outputs": [],
   "source": [
    "newRows = []\n",
    "for row in rows[:0:-1]:\n",
    "    currDate = datetime.strptime(row[0], '%Y-%m-%d').strftime('%m/%d/%Y')\n",
    "    for i in range(1, len(row)):\n",
    "        tag = tagRow[i].lstrip()\n",
    "        if tag in fundTag:\n",
    "            try:\n",
    "                price = float(row[i])\n",
    "            except:\n",
    "                continue\n",
    "            newRows.append([fundTag[tag], price, currDate])\n",
    "            foundNew = True\n",
    "            print('found', [fundTag[tag], price, currDate])\n",
    "\n",
    "if foundNew:\n",
    "    with open(priceHistoryFile, \"a\", newline='') as file:\n",
    "        writer = csv.writer(file)\n",
    "        writer.writerows(newRows)\n",
    "\n",
    "sys.exit()"
   ]
  },
  {
   "cell_type": "code",
   "execution_count": null,
   "metadata": {},
   "outputs": [],
   "source": []
  }
 ],
 "metadata": {
  "kernelspec": {
   "display_name": "Python 3",
   "language": "python",
   "name": "python3"
  },
  "language_info": {
   "codemirror_mode": {
    "name": "ipython",
    "version": 3
   },
   "file_extension": ".py",
   "mimetype": "text/x-python",
   "name": "python",
   "nbconvert_exporter": "python",
   "pygments_lexer": "ipython3",
   "version": "3.7.6"
  }
 },
 "nbformat": 4,
 "nbformat_minor": 4
}
